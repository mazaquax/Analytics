{
  "nbformat": 4,
  "nbformat_minor": 0,
  "metadata": {
    "kernelspec": {
      "display_name": "Python 3",
      "language": "python",
      "name": "python3"
    },
    "language_info": {
      "codemirror_mode": {
        "name": "ipython",
        "version": 3
      },
      "file_extension": ".py",
      "mimetype": "text/x-python",
      "name": "python",
      "nbconvert_exporter": "python",
      "pygments_lexer": "ipython3",
      "version": "3.7.3"
    },
    "colab": {
      "name": "Nobel laureates dataset analysis.ipynb",
      "provenance": [],
      "collapsed_sections": []
    }
  },
  "cells": [
    {
      "cell_type": "code",
      "metadata": {
        "id": "ZZK0pHb32nyF",
        "colab_type": "code",
        "colab": {}
      },
      "source": [
        "import pandas as pd\n",
        "import numpy as np\n",
        "import matplotlib.pyplot as plt"
      ],
      "execution_count": null,
      "outputs": []
    },
    {
      "cell_type": "code",
      "metadata": {
        "scrolled": true,
        "id": "tNBj3Ofr2nyK",
        "colab_type": "code",
        "colab": {}
      },
      "source": [
        "# https://www.kaggle.com/nobelfoundation/nobel-laureates\n",
        "nobel_data = pd.read_csv('Math_prac/nobel_prize_winners.csv')"
      ],
      "execution_count": null,
      "outputs": []
    },
    {
      "cell_type": "code",
      "metadata": {
        "scrolled": true,
        "id": "8RaHJyNt2nyN",
        "colab_type": "code",
        "colab": {},
        "outputId": "968bd1f2-2daa-478c-c22e-b7069ba409ad"
      },
      "source": [
        "nobel_data.sort_values(['Year', 'Category'], inplace=True)\n",
        "nobel_data.head(10)"
      ],
      "execution_count": null,
      "outputs": [
        {
          "output_type": "execute_result",
          "data": {
            "text/html": [
              "<div>\n",
              "<style scoped>\n",
              "    .dataframe tbody tr th:only-of-type {\n",
              "        vertical-align: middle;\n",
              "    }\n",
              "\n",
              "    .dataframe tbody tr th {\n",
              "        vertical-align: top;\n",
              "    }\n",
              "\n",
              "    .dataframe thead th {\n",
              "        text-align: right;\n",
              "    }\n",
              "</style>\n",
              "<table border=\"1\" class=\"dataframe\">\n",
              "  <thead>\n",
              "    <tr style=\"text-align: right;\">\n",
              "      <th></th>\n",
              "      <th>Year</th>\n",
              "      <th>Category</th>\n",
              "      <th>Prize</th>\n",
              "      <th>Motivation</th>\n",
              "      <th>Prize Share</th>\n",
              "      <th>Laureate ID</th>\n",
              "      <th>Laureate Type</th>\n",
              "      <th>Full Name</th>\n",
              "      <th>Birth Date</th>\n",
              "      <th>Birth City</th>\n",
              "      <th>Birth Country</th>\n",
              "      <th>Sex</th>\n",
              "      <th>Organization Name</th>\n",
              "      <th>Organization City</th>\n",
              "      <th>Organization Country</th>\n",
              "      <th>Death Date</th>\n",
              "      <th>Death City</th>\n",
              "      <th>Death Country</th>\n",
              "    </tr>\n",
              "  </thead>\n",
              "  <tbody>\n",
              "    <tr>\n",
              "      <th>0</th>\n",
              "      <td>1901</td>\n",
              "      <td>Chemistry</td>\n",
              "      <td>The Nobel Prize in Chemistry 1901</td>\n",
              "      <td>\"in recognition of the extraordinary services ...</td>\n",
              "      <td>1-Jan</td>\n",
              "      <td>160</td>\n",
              "      <td>Individual</td>\n",
              "      <td>Jacobus Henricus van 't Hoff</td>\n",
              "      <td>1852-08-30</td>\n",
              "      <td>Rotterdam</td>\n",
              "      <td>Netherlands</td>\n",
              "      <td>Male</td>\n",
              "      <td>Berlin University</td>\n",
              "      <td>Berlin</td>\n",
              "      <td>Germany</td>\n",
              "      <td>3/1/1911</td>\n",
              "      <td>Berlin</td>\n",
              "      <td>Germany</td>\n",
              "    </tr>\n",
              "    <tr>\n",
              "      <th>1</th>\n",
              "      <td>1901</td>\n",
              "      <td>Literature</td>\n",
              "      <td>The Nobel Prize in Literature 1901</td>\n",
              "      <td>\"in special recognition of his poetic composit...</td>\n",
              "      <td>1-Jan</td>\n",
              "      <td>569</td>\n",
              "      <td>Individual</td>\n",
              "      <td>Sully Prudhomme</td>\n",
              "      <td>1839-03-16</td>\n",
              "      <td>Paris</td>\n",
              "      <td>France</td>\n",
              "      <td>Male</td>\n",
              "      <td>NaN</td>\n",
              "      <td>NaN</td>\n",
              "      <td>NaN</td>\n",
              "      <td>9/7/1907</td>\n",
              "      <td>Châtenay</td>\n",
              "      <td>France</td>\n",
              "    </tr>\n",
              "    <tr>\n",
              "      <th>2</th>\n",
              "      <td>1901</td>\n",
              "      <td>Medicine</td>\n",
              "      <td>The Nobel Prize in Physiology or Medicine 1901</td>\n",
              "      <td>\"for his work on serum therapy, especially its...</td>\n",
              "      <td>1-Jan</td>\n",
              "      <td>293</td>\n",
              "      <td>Individual</td>\n",
              "      <td>Emil Adolf von Behring</td>\n",
              "      <td>1854-03-15</td>\n",
              "      <td>Hansdorf (Lawice)</td>\n",
              "      <td>Prussia (Poland)</td>\n",
              "      <td>Male</td>\n",
              "      <td>Marburg University</td>\n",
              "      <td>Marburg</td>\n",
              "      <td>Germany</td>\n",
              "      <td>3/31/1917</td>\n",
              "      <td>Marburg</td>\n",
              "      <td>Germany</td>\n",
              "    </tr>\n",
              "    <tr>\n",
              "      <th>3</th>\n",
              "      <td>1901</td>\n",
              "      <td>Peace</td>\n",
              "      <td>The Nobel Peace Prize 1901</td>\n",
              "      <td>NaN</td>\n",
              "      <td>2-Jan</td>\n",
              "      <td>462</td>\n",
              "      <td>Individual</td>\n",
              "      <td>Jean Henry Dunant</td>\n",
              "      <td>1828-05-08</td>\n",
              "      <td>Geneva</td>\n",
              "      <td>Switzerland</td>\n",
              "      <td>Male</td>\n",
              "      <td>NaN</td>\n",
              "      <td>NaN</td>\n",
              "      <td>NaN</td>\n",
              "      <td>10/30/1910</td>\n",
              "      <td>Heiden</td>\n",
              "      <td>Switzerland</td>\n",
              "    </tr>\n",
              "    <tr>\n",
              "      <th>4</th>\n",
              "      <td>1901</td>\n",
              "      <td>Peace</td>\n",
              "      <td>The Nobel Peace Prize 1901</td>\n",
              "      <td>NaN</td>\n",
              "      <td>2-Jan</td>\n",
              "      <td>463</td>\n",
              "      <td>Individual</td>\n",
              "      <td>Frédéric Passy</td>\n",
              "      <td>1822-05-20</td>\n",
              "      <td>Paris</td>\n",
              "      <td>France</td>\n",
              "      <td>Male</td>\n",
              "      <td>NaN</td>\n",
              "      <td>NaN</td>\n",
              "      <td>NaN</td>\n",
              "      <td>6/12/1912</td>\n",
              "      <td>Paris</td>\n",
              "      <td>France</td>\n",
              "    </tr>\n",
              "    <tr>\n",
              "      <th>5</th>\n",
              "      <td>1901</td>\n",
              "      <td>Physics</td>\n",
              "      <td>The Nobel Prize in Physics 1901</td>\n",
              "      <td>\"in recognition of the extraordinary services ...</td>\n",
              "      <td>1-Jan</td>\n",
              "      <td>1</td>\n",
              "      <td>Individual</td>\n",
              "      <td>Wilhelm Conrad Röntgen</td>\n",
              "      <td>1845-03-27</td>\n",
              "      <td>Lennep (Remscheid)</td>\n",
              "      <td>Prussia (Germany)</td>\n",
              "      <td>Male</td>\n",
              "      <td>Munich University</td>\n",
              "      <td>Munich</td>\n",
              "      <td>Germany</td>\n",
              "      <td>2/10/1923</td>\n",
              "      <td>Munich</td>\n",
              "      <td>Germany</td>\n",
              "    </tr>\n",
              "    <tr>\n",
              "      <th>6</th>\n",
              "      <td>1902</td>\n",
              "      <td>Chemistry</td>\n",
              "      <td>The Nobel Prize in Chemistry 1902</td>\n",
              "      <td>\"in recognition of the extraordinary services ...</td>\n",
              "      <td>1-Jan</td>\n",
              "      <td>161</td>\n",
              "      <td>Individual</td>\n",
              "      <td>Hermann Emil Fischer</td>\n",
              "      <td>1852-10-09</td>\n",
              "      <td>Euskirchen</td>\n",
              "      <td>Prussia (Germany)</td>\n",
              "      <td>Male</td>\n",
              "      <td>Berlin University</td>\n",
              "      <td>Berlin</td>\n",
              "      <td>Germany</td>\n",
              "      <td>7/15/1919</td>\n",
              "      <td>Berlin</td>\n",
              "      <td>Germany</td>\n",
              "    </tr>\n",
              "    <tr>\n",
              "      <th>7</th>\n",
              "      <td>1902</td>\n",
              "      <td>Literature</td>\n",
              "      <td>The Nobel Prize in Literature 1902</td>\n",
              "      <td>\"the greatest living master of the art of hist...</td>\n",
              "      <td>1-Jan</td>\n",
              "      <td>571</td>\n",
              "      <td>Individual</td>\n",
              "      <td>Christian Matthias Theodor Mommsen</td>\n",
              "      <td>1817-11-30</td>\n",
              "      <td>Garding</td>\n",
              "      <td>Schleswig (Germany)</td>\n",
              "      <td>Male</td>\n",
              "      <td>NaN</td>\n",
              "      <td>NaN</td>\n",
              "      <td>NaN</td>\n",
              "      <td>11/1/1903</td>\n",
              "      <td>Charlottenburg</td>\n",
              "      <td>Germany</td>\n",
              "    </tr>\n",
              "    <tr>\n",
              "      <th>8</th>\n",
              "      <td>1902</td>\n",
              "      <td>Medicine</td>\n",
              "      <td>The Nobel Prize in Physiology or Medicine 1902</td>\n",
              "      <td>\"for his work on malaria, by which he has show...</td>\n",
              "      <td>1-Jan</td>\n",
              "      <td>294</td>\n",
              "      <td>Individual</td>\n",
              "      <td>Ronald Ross</td>\n",
              "      <td>1857-05-13</td>\n",
              "      <td>Almora</td>\n",
              "      <td>India</td>\n",
              "      <td>Male</td>\n",
              "      <td>University College</td>\n",
              "      <td>Liverpool</td>\n",
              "      <td>United Kingdom</td>\n",
              "      <td>9/16/1932</td>\n",
              "      <td>Putney Heath</td>\n",
              "      <td>United Kingdom</td>\n",
              "    </tr>\n",
              "    <tr>\n",
              "      <th>9</th>\n",
              "      <td>1902</td>\n",
              "      <td>Peace</td>\n",
              "      <td>The Nobel Peace Prize 1902</td>\n",
              "      <td>NaN</td>\n",
              "      <td>2-Jan</td>\n",
              "      <td>464</td>\n",
              "      <td>Individual</td>\n",
              "      <td>Élie Ducommun</td>\n",
              "      <td>1833-02-19</td>\n",
              "      <td>Geneva</td>\n",
              "      <td>Switzerland</td>\n",
              "      <td>Male</td>\n",
              "      <td>NaN</td>\n",
              "      <td>NaN</td>\n",
              "      <td>NaN</td>\n",
              "      <td>12/7/1906</td>\n",
              "      <td>Bern</td>\n",
              "      <td>Switzerland</td>\n",
              "    </tr>\n",
              "  </tbody>\n",
              "</table>\n",
              "</div>"
            ],
            "text/plain": [
              "   Year    Category                                           Prize  \\\n",
              "0  1901   Chemistry               The Nobel Prize in Chemistry 1901   \n",
              "1  1901  Literature              The Nobel Prize in Literature 1901   \n",
              "2  1901    Medicine  The Nobel Prize in Physiology or Medicine 1901   \n",
              "3  1901       Peace                      The Nobel Peace Prize 1901   \n",
              "4  1901       Peace                      The Nobel Peace Prize 1901   \n",
              "5  1901     Physics                 The Nobel Prize in Physics 1901   \n",
              "6  1902   Chemistry               The Nobel Prize in Chemistry 1902   \n",
              "7  1902  Literature              The Nobel Prize in Literature 1902   \n",
              "8  1902    Medicine  The Nobel Prize in Physiology or Medicine 1902   \n",
              "9  1902       Peace                      The Nobel Peace Prize 1902   \n",
              "\n",
              "                                          Motivation Prize Share  Laureate ID  \\\n",
              "0  \"in recognition of the extraordinary services ...       1-Jan          160   \n",
              "1  \"in special recognition of his poetic composit...       1-Jan          569   \n",
              "2  \"for his work on serum therapy, especially its...       1-Jan          293   \n",
              "3                                                NaN       2-Jan          462   \n",
              "4                                                NaN       2-Jan          463   \n",
              "5  \"in recognition of the extraordinary services ...       1-Jan            1   \n",
              "6  \"in recognition of the extraordinary services ...       1-Jan          161   \n",
              "7  \"the greatest living master of the art of hist...       1-Jan          571   \n",
              "8  \"for his work on malaria, by which he has show...       1-Jan          294   \n",
              "9                                                NaN       2-Jan          464   \n",
              "\n",
              "  Laureate Type                           Full Name  Birth Date  \\\n",
              "0    Individual        Jacobus Henricus van 't Hoff  1852-08-30   \n",
              "1    Individual                     Sully Prudhomme  1839-03-16   \n",
              "2    Individual              Emil Adolf von Behring  1854-03-15   \n",
              "3    Individual                   Jean Henry Dunant  1828-05-08   \n",
              "4    Individual                      Frédéric Passy  1822-05-20   \n",
              "5    Individual              Wilhelm Conrad Röntgen  1845-03-27   \n",
              "6    Individual                Hermann Emil Fischer  1852-10-09   \n",
              "7    Individual  Christian Matthias Theodor Mommsen  1817-11-30   \n",
              "8    Individual                         Ronald Ross  1857-05-13   \n",
              "9    Individual                       Élie Ducommun  1833-02-19   \n",
              "\n",
              "           Birth City        Birth Country   Sex   Organization Name  \\\n",
              "0           Rotterdam          Netherlands  Male   Berlin University   \n",
              "1               Paris               France  Male                 NaN   \n",
              "2   Hansdorf (Lawice)     Prussia (Poland)  Male  Marburg University   \n",
              "3              Geneva          Switzerland  Male                 NaN   \n",
              "4               Paris               France  Male                 NaN   \n",
              "5  Lennep (Remscheid)    Prussia (Germany)  Male   Munich University   \n",
              "6          Euskirchen    Prussia (Germany)  Male   Berlin University   \n",
              "7             Garding  Schleswig (Germany)  Male                 NaN   \n",
              "8              Almora                India  Male  University College   \n",
              "9              Geneva          Switzerland  Male                 NaN   \n",
              "\n",
              "  Organization City Organization Country  Death Date      Death City  \\\n",
              "0            Berlin              Germany    3/1/1911          Berlin   \n",
              "1               NaN                  NaN    9/7/1907        Châtenay   \n",
              "2           Marburg              Germany   3/31/1917         Marburg   \n",
              "3               NaN                  NaN  10/30/1910          Heiden   \n",
              "4               NaN                  NaN   6/12/1912           Paris   \n",
              "5            Munich              Germany   2/10/1923          Munich   \n",
              "6            Berlin              Germany   7/15/1919          Berlin   \n",
              "7               NaN                  NaN   11/1/1903  Charlottenburg   \n",
              "8         Liverpool       United Kingdom   9/16/1932    Putney Heath   \n",
              "9               NaN                  NaN   12/7/1906            Bern   \n",
              "\n",
              "    Death Country  \n",
              "0         Germany  \n",
              "1          France  \n",
              "2         Germany  \n",
              "3     Switzerland  \n",
              "4          France  \n",
              "5         Germany  \n",
              "6         Germany  \n",
              "7         Germany  \n",
              "8  United Kingdom  \n",
              "9     Switzerland  "
            ]
          },
          "metadata": {
            "tags": []
          },
          "execution_count": 250
        }
      ]
    },
    {
      "cell_type": "markdown",
      "metadata": {
        "id": "6g2aYro32nyR",
        "colab_type": "text"
      },
      "source": [
        "## Далее, хочется исследовать возраст победителей, поэтому убираю награды организациям"
      ]
    },
    {
      "cell_type": "code",
      "metadata": {
        "id": "gRH05llg2nyS",
        "colab_type": "code",
        "colab": {}
      },
      "source": [
        "nobel_data_ind = nobel_data[(nobel_data['Laureate Type'] == 'Individual')&(nobel_data['Birth Date'].isnull() == False)].copy()"
      ],
      "execution_count": null,
      "outputs": []
    },
    {
      "cell_type": "code",
      "metadata": {
        "id": "IRyTUrzf2nyV",
        "colab_type": "code",
        "colab": {}
      },
      "source": [
        "date_t_1 = nobel_data_ind['Birth Date'].str.contains(\"/\", na=False)\n",
        "nobel_data_ind1 = nobel_data_ind[date_t_1].copy()\n",
        "\n",
        "date_t_2 = ~nobel_data_ind['Birth Date'].str.contains(\"/\", na=False)\n",
        "nobel_data_ind2 = nobel_data_ind[date_t_2].copy()"
      ],
      "execution_count": null,
      "outputs": []
    },
    {
      "cell_type": "code",
      "metadata": {
        "scrolled": true,
        "id": "NgECpDjx2nyY",
        "colab_type": "code",
        "colab": {}
      },
      "source": [
        "#string into datetime and getting year of birth\n",
        "nobel_data_ind1['Birth Date'] = pd.to_datetime(nobel_data_ind1['Birth Date'], format='%m/%d/%Y')\n",
        "nobel_data_ind1['Birth Date'] = nobel_data_ind1['Birth Date'].apply(lambda x: x.year)\n",
        "\n",
        "nobel_data_ind2['Birth Date'] = nobel_data_ind2['Birth Date'].str[:4].astype(int)\n",
        "\n",
        "nobel_data_ind = pd.concat([nobel_data_ind1,nobel_data_ind2])\n",
        "nobel_data_ind.drop_duplicates(inplace=True)"
      ],
      "execution_count": null,
      "outputs": []
    },
    {
      "cell_type": "code",
      "metadata": {
        "id": "sOEZ5cCN2nya",
        "colab_type": "code",
        "colab": {}
      },
      "source": [
        "nobel_data_ind.sort_values(['Year', 'Category'], inplace=True)"
      ],
      "execution_count": null,
      "outputs": []
    },
    {
      "cell_type": "code",
      "metadata": {
        "id": "Xd8hyVOU2nye",
        "colab_type": "code",
        "colab": {}
      },
      "source": [
        "nobel_data_ind['Age'] =  nobel_data_ind['Year'] - nobel_data_ind['Birth Date']"
      ],
      "execution_count": null,
      "outputs": []
    },
    {
      "cell_type": "code",
      "metadata": {
        "scrolled": true,
        "id": "u4ueNpAN2nyh",
        "colab_type": "code",
        "colab": {},
        "outputId": "ff707a77-78cd-4b39-a0e1-425507981f20"
      },
      "source": [
        "cols = nobel_data_ind.columns.tolist()\n",
        "cols"
      ],
      "execution_count": null,
      "outputs": [
        {
          "output_type": "execute_result",
          "data": {
            "text/plain": [
              "['Year',\n",
              " 'Category',\n",
              " 'Prize',\n",
              " 'Motivation',\n",
              " 'Prize Share',\n",
              " 'Laureate ID',\n",
              " 'Laureate Type',\n",
              " 'Full Name',\n",
              " 'Birth Date',\n",
              " 'Birth City',\n",
              " 'Birth Country',\n",
              " 'Sex',\n",
              " 'Organization Name',\n",
              " 'Organization City',\n",
              " 'Organization Country',\n",
              " 'Death Date',\n",
              " 'Death City',\n",
              " 'Death Country',\n",
              " 'Age']"
            ]
          },
          "metadata": {
            "tags": []
          },
          "execution_count": 256
        }
      ]
    },
    {
      "cell_type": "code",
      "metadata": {
        "id": "oReh3MhJ2nyj",
        "colab_type": "code",
        "colab": {}
      },
      "source": [
        "cols = ['Year',\n",
        " 'Category',\n",
        " 'Prize',\n",
        " 'Motivation',\n",
        " 'Prize Share',\n",
        " 'Laureate ID',\n",
        " 'Laureate Type',\n",
        " 'Full Name',\n",
        "        'Age',\n",
        " 'Birth Date',\n",
        " 'Birth City',\n",
        " 'Birth Country',\n",
        " 'Sex',\n",
        " 'Organization Name',\n",
        " 'Organization City',\n",
        " 'Organization Country',\n",
        " 'Death Date',\n",
        " 'Death City',\n",
        " 'Death Country']\n",
        "nobel_data_ind = nobel_data_ind[cols]"
      ],
      "execution_count": null,
      "outputs": []
    },
    {
      "cell_type": "code",
      "metadata": {
        "scrolled": true,
        "id": "I3GI41w52nym",
        "colab_type": "code",
        "colab": {}
      },
      "source": [
        "nobel_data[nobel_data['Birth Date'].isnull() == True]"
      ],
      "execution_count": null,
      "outputs": []
    },
    {
      "cell_type": "code",
      "metadata": {
        "scrolled": true,
        "id": "92Ij32U92nyp",
        "colab_type": "code",
        "colab": {},
        "outputId": "d82a77c8-38a5-4e69-b43b-bed7e8295695"
      },
      "source": [
        "nobel_data_ind['Age'].mean()"
      ],
      "execution_count": null,
      "outputs": [
        {
          "output_type": "execute_result",
          "data": {
            "text/plain": [
              "59.49252136752137"
            ]
          },
          "metadata": {
            "tags": []
          },
          "execution_count": 259
        }
      ]
    },
    {
      "cell_type": "markdown",
      "metadata": {
        "id": "9ic2d5jC2nyt",
        "colab_type": "text"
      },
      "source": [
        "## Итак, средний возраст обладателей Нобелевской премии - <font color='red'>59 лет</font> \n",
        "### Но, может, не обязательно проживать целую жизнь, чтоб стать победителем? <br>Посмотрим на возраст победителей в разных дисциплинах"
      ]
    },
    {
      "cell_type": "code",
      "metadata": {
        "id": "-8ci6Tju2nyt",
        "colab_type": "code",
        "colab": {},
        "outputId": "2106a493-f1e7-489b-ebee-343500c74363"
      },
      "source": [
        "field_age = nobel_data_ind[['Category','Age']].copy()\n",
        "field_age = field_age.groupby('Category').mean().reset_index()\n",
        "field_age['Age'] = round(field_age['Age'])\n",
        "\n",
        "field_age_np = field_age.to_numpy()\n",
        "\n",
        "plt.figure(figsize=(13,6))\n",
        "plt.barh(field_age_np[:,0], field_age_np[:,1])\n",
        "plt.ylabel('Category')\n",
        "plt.xlabel('Age')\n",
        "\n",
        "for i, v in enumerate(field_age_np[:,1].astype(int)):\n",
        "    plt.text(v + 1, i + .005, str(v), color='b', fontweight='bold')\n",
        "    \n",
        "plt.show()\n"
      ],
      "execution_count": null,
      "outputs": [
        {
          "output_type": "display_data",
          "data": {
            "image/png": "[encoded data removed]",
            "text/plain": [
              "<Figure size 936x432 with 1 Axes>"
            ]
          },
          "metadata": {
            "tags": [],
            "needs_background": "light"
          }
        }
      ]
    },
    {
      "cell_type": "markdown",
      "metadata": {
        "id": "5GHhUu2G2ny1",
        "colab_type": "text"
      },
      "source": [
        "Как оказалось, каждое из направлений требует многолетних трудов"
      ]
    },
    {
      "cell_type": "markdown",
      "metadata": {
        "id": "NQPwTaPj2ny2",
        "colab_type": "text"
      },
      "source": [
        "### Но, может, всё-таки учёные молодеют, и сейчас есть все шансы?"
      ]
    },
    {
      "cell_type": "code",
      "metadata": {
        "id": "ZTCLbIsg2ny2",
        "colab_type": "code",
        "colab": {},
        "outputId": "47a6443c-6ef3-4296-b260-bf43d8c3051e"
      },
      "source": [
        "year_age = nobel_data_ind[['Year','Age']].copy()\n",
        "year_age['Year1'] = year_age['Year'].apply(lambda x: (x//7)*7)\n",
        "\n",
        "year_age = year_age.groupby('Year1').mean().reset_index()\n",
        "year_age['Age'] = round(year_age['Age'])\n",
        "\n",
        "\n",
        "plt.figure(figsize=(15,7))\n",
        "plt.plot(year_age['Year1'], year_age['Age'])\n",
        "plt.xlabel('Year')\n",
        "plt.xticks(year_age['Year1'])\n",
        "plt.ylabel('Age')\n",
        "plt.title('Age of Nobel winners')\n",
        "plt.axvline(x=1953, color='black').set_dashes([3, 3, 3, 3])\n",
        "plt.axhline(y=55, color='red').set_dashes([10, 10, 10, 10])\n",
        "plt.axhline(y=70, color='red').set_dashes([10, 10, 10, 10])\n",
        "plt.show()"
      ],
      "execution_count": null,
      "outputs": [
        {
          "output_type": "display_data",
          "data": {
            "image/png": "[encoded data removed]",
            "text/plain": [
              "<Figure size 1080x504 with 1 Axes>"
            ]
          },
          "metadata": {
            "tags": [],
            "needs_background": "light"
          }
        }
      ]
    },
    {
      "cell_type": "markdown",
      "metadata": {
        "id": "RjBzfBfq2ny5",
        "colab_type": "text"
      },
      "source": [
        "Видно, что начиная с 1953 года возраст учёных, победителей Нобелевской премии, только возрастал"
      ]
    },
    {
      "cell_type": "markdown",
      "metadata": {
        "id": "fr8aLp7C2ny6",
        "colab_type": "text"
      },
      "source": [
        "## Далее, хочу поизучать соотношение полов среди победителей"
      ]
    },
    {
      "cell_type": "code",
      "metadata": {
        "id": "Z_seATUn2ny6",
        "colab_type": "code",
        "colab": {},
        "outputId": "05af9b29-7bb2-4942-e72e-ca36a46e3ceb"
      },
      "source": [
        "nobel_data_ind['Sex'].isnull().sum()\n",
        "#All sexes are correct"
      ],
      "execution_count": null,
      "outputs": [
        {
          "output_type": "execute_result",
          "data": {
            "text/plain": [
              "0"
            ]
          },
          "metadata": {
            "tags": []
          },
          "execution_count": 262
        }
      ]
    },
    {
      "cell_type": "code",
      "metadata": {
        "scrolled": false,
        "id": "942QT3jD2ny9",
        "colab_type": "code",
        "colab": {},
        "outputId": "0e4a335c-e26e-46dd-8573-6e13e85b7e8d"
      },
      "source": [
        "sex_quant = nobel_data_ind[['Sex']].groupby('Sex').size().to_frame('Quant').reset_index()\n",
        "sex_quant"
      ],
      "execution_count": null,
      "outputs": [
        {
          "output_type": "execute_result",
          "data": {
            "text/html": [
              "<div>\n",
              "<style scoped>\n",
              "    .dataframe tbody tr th:only-of-type {\n",
              "        vertical-align: middle;\n",
              "    }\n",
              "\n",
              "    .dataframe tbody tr th {\n",
              "        vertical-align: top;\n",
              "    }\n",
              "\n",
              "    .dataframe thead th {\n",
              "        text-align: right;\n",
              "    }\n",
              "</style>\n",
              "<table border=\"1\" class=\"dataframe\">\n",
              "  <thead>\n",
              "    <tr style=\"text-align: right;\">\n",
              "      <th></th>\n",
              "      <th>Sex</th>\n",
              "      <th>Quant</th>\n",
              "    </tr>\n",
              "  </thead>\n",
              "  <tbody>\n",
              "    <tr>\n",
              "      <th>0</th>\n",
              "      <td>Female</td>\n",
              "      <td>48</td>\n",
              "    </tr>\n",
              "    <tr>\n",
              "      <th>1</th>\n",
              "      <td>Male</td>\n",
              "      <td>888</td>\n",
              "    </tr>\n",
              "  </tbody>\n",
              "</table>\n",
              "</div>"
            ],
            "text/plain": [
              "      Sex  Quant\n",
              "0  Female     48\n",
              "1    Male    888"
            ]
          },
          "metadata": {
            "tags": []
          },
          "execution_count": 263
        }
      ]
    },
    {
      "cell_type": "code",
      "metadata": {
        "id": "oQaI2say2ny_",
        "colab_type": "code",
        "colab": {},
        "outputId": "b24d3e86-4df9-4d00-986d-5d39a791c5dc"
      },
      "source": [
        "female_percent = 100 * (sex_quant.to_numpy()[0, 1]/sex_quant.to_numpy()[1, 1])\n",
        "female_percent = int(female_percent)\n",
        "print(f'Женщин, Нобелевских призёров, всего {female_percent}%')"
      ],
      "execution_count": null,
      "outputs": [
        {
          "output_type": "stream",
          "text": [
            "Женщин, Нобелевских призёров, всего 5%\n"
          ],
          "name": "stdout"
        }
      ]
    },
    {
      "cell_type": "markdown",
      "metadata": {
        "id": "IyBMKjyl2nzC",
        "colab_type": "text"
      },
      "source": [
        "### В какие года женщинам удалось стать победителями?"
      ]
    },
    {
      "cell_type": "code",
      "metadata": {
        "scrolled": true,
        "id": "4vhj-1va2nzD",
        "colab_type": "code",
        "colab": {}
      },
      "source": [
        "sex_mask = nobel_data_ind['Sex'] == 'Female'\n",
        "nobel_sex = nobel_data_ind[['Year', 'Category','Full Name', 'Sex',]].copy()\n",
        "nobel_sex['Sex_fem'] = sex_mask"
      ],
      "execution_count": null,
      "outputs": []
    },
    {
      "cell_type": "code",
      "metadata": {
        "id": "UvFo9OoR2nzG",
        "colab_type": "code",
        "colab": {},
        "outputId": "9be1b7af-17df-4973-e3fb-97949d9ce8bf"
      },
      "source": [
        "nobel_sex_years = nobel_sex[['Year', 'Sex_fem']].groupby('Year').sum().reset_index().copy()\n",
        "nobel_sex_years1 = nobel_sex_years[nobel_sex_years['Sex_fem']>0]\n",
        "\n",
        "plt.figure(figsize=(15,5))\n",
        "plt.scatter(nobel_sex_years1['Year'], nobel_sex_years1['Sex_fem'])\n",
        "plt.ylabel('Women winners')\n",
        "plt.xlabel('Year')\n",
        "plt.xticks(nobel_sex_years1['Year'], rotation=-70)\n",
        "\n",
        "b = int(nobel_sex_years1[nobel_sex_years1['Year']<1960][['Sex_fem']].sum())\n",
        "a = int(nobel_sex_years1[nobel_sex_years1['Year']>=1960][['Sex_fem']].sum())\n",
        "\n",
        "plt.text(1915, 4, str(b), color='black', fontweight='bold', fontsize='xx-large')\n",
        "plt.text(1996, 4, str(a), color='black', fontweight='bold', fontsize='xx-large')\n",
        "\n",
        "plt.axvline(x=1960, color='green').set_dashes([5, 5, 5, 5])\n",
        "\n",
        "plt.show()"
      ],
      "execution_count": null,
      "outputs": [
        {
          "output_type": "display_data",
          "data": {
            "image/png": "[encoded data removed]",
            "text/plain": [
              "<Figure size 1080x360 with 1 Axes>"
            ]
          },
          "metadata": {
            "tags": [],
            "needs_background": "light"
          }
        }
      ]
    },
    {
      "cell_type": "markdown",
      "metadata": {
        "id": "d1E698jq2nzI",
        "colab_type": "text"
      },
      "source": [
        "Интересен тот факт, что большинство женских побед приходится на период после 60-ых. Причин может быть множество. Именно в 60-ых началась, так называемая, \"вторая волна\" феминизма. А, может, стали достигать среднего возраста Нобелевского победителя люди, выросшие во времена повышенного интереса к науке. <br> И то, и то может быть верным, однако количество выдываемых Нобелевских премий выросло в принципе, и это аргумент скорее не в пользу первой причины."
      ]
    },
    {
      "cell_type": "code",
      "metadata": {
        "scrolled": false,
        "id": "pdAkDA2B2nzJ",
        "colab_type": "code",
        "colab": {},
        "outputId": "a992bc23-25e7-4396-d5ab-cb2f33797387"
      },
      "source": [
        "nobel_prizes_quant = nobel_data_ind[['Year']].groupby('Year').size().to_frame('quant').reset_index().copy()\n",
        "\n",
        "plt.figure(figsize=(10,7))\n",
        "plt.plot(nobel_prizes_quant[['Year']], nobel_prizes_quant[['quant']])\n",
        "plt.xlabel('Year')\n",
        "plt.ylabel('Quant of prizes')\n",
        "plt.show()"
      ],
      "execution_count": null,
      "outputs": [
        {
          "output_type": "display_data",
          "data": {
            "image/png": "[encoded data removed]",
            "text/plain": [
              "<Figure size 720x504 with 1 Axes>"
            ]
          },
          "metadata": {
            "tags": [],
            "needs_background": "light"
          }
        }
      ]
    },
    {
      "cell_type": "markdown",
      "metadata": {
        "id": "UwyLHfoz2nzL",
        "colab_type": "text"
      },
      "source": [
        "<b>!Интересно!</b> Смотря на график выше, можно заметить, что на период Первой Мировой Войны (1914-1918 гг.) приходится существенный спад по кол-ву выданных премий. <br> Все года, когда было выдано не больше 3 премий, - это года I Мировой Войны + 1924г."
      ]
    },
    {
      "cell_type": "code",
      "metadata": {
        "scrolled": true,
        "id": "Z-dfiYQK2nzM",
        "colab_type": "code",
        "colab": {},
        "outputId": "0dfc4642-6ee3-4a99-dbd7-30eca25cf094"
      },
      "source": [
        "nobel_prizes_quant[nobel_prizes_quant['quant']<=3]"
      ],
      "execution_count": null,
      "outputs": [
        {
          "output_type": "execute_result",
          "data": {
            "text/html": [
              "<div>\n",
              "<style scoped>\n",
              "    .dataframe tbody tr th:only-of-type {\n",
              "        vertical-align: middle;\n",
              "    }\n",
              "\n",
              "    .dataframe tbody tr th {\n",
              "        vertical-align: top;\n",
              "    }\n",
              "\n",
              "    .dataframe thead th {\n",
              "        text-align: right;\n",
              "    }\n",
              "</style>\n",
              "<table border=\"1\" class=\"dataframe\">\n",
              "  <thead>\n",
              "    <tr style=\"text-align: right;\">\n",
              "      <th></th>\n",
              "      <th>Year</th>\n",
              "      <th>quant</th>\n",
              "    </tr>\n",
              "  </thead>\n",
              "  <tbody>\n",
              "    <tr>\n",
              "      <th>13</th>\n",
              "      <td>1914</td>\n",
              "      <td>3</td>\n",
              "    </tr>\n",
              "    <tr>\n",
              "      <th>15</th>\n",
              "      <td>1916</td>\n",
              "      <td>1</td>\n",
              "    </tr>\n",
              "    <tr>\n",
              "      <th>16</th>\n",
              "      <td>1917</td>\n",
              "      <td>3</td>\n",
              "    </tr>\n",
              "    <tr>\n",
              "      <th>17</th>\n",
              "      <td>1918</td>\n",
              "      <td>2</td>\n",
              "    </tr>\n",
              "    <tr>\n",
              "      <th>23</th>\n",
              "      <td>1924</td>\n",
              "      <td>3</td>\n",
              "    </tr>\n",
              "  </tbody>\n",
              "</table>\n",
              "</div>"
            ],
            "text/plain": [
              "    Year  quant\n",
              "13  1914      3\n",
              "15  1916      1\n",
              "16  1917      3\n",
              "17  1918      2\n",
              "23  1924      3"
            ]
          },
          "metadata": {
            "tags": []
          },
          "execution_count": 269
        }
      ]
    },
    {
      "cell_type": "markdown",
      "metadata": {
        "id": "yDQ9zkvs2nzO",
        "colab_type": "text"
      },
      "source": [
        "### Вернёмся к женщинам, как женщины распределены по дисциплинам?"
      ]
    },
    {
      "cell_type": "code",
      "metadata": {
        "id": "zm9TTVwP2nzO",
        "colab_type": "code",
        "colab": {},
        "outputId": "06fc3063-eb6e-478c-8a13-afbfa035198a"
      },
      "source": [
        "nobel_sex_cat = nobel_sex[['Category', 'Sex_fem']].groupby('Category').sum().reset_index().copy()\n",
        "nobel_sex_cat = nobel_sex_cat[nobel_sex_cat['Sex_fem']>0]\n",
        "\n",
        "plt.figure(figsize=(10,7))\n",
        "plt.bar(nobel_sex_cat['Category'], nobel_sex_cat['Sex_fem']/nobel_sex_cat['Sex_fem'].sum())\n",
        "plt.xlabel('Category')\n",
        "plt.ylabel('Share')\n",
        "plt.show()"
      ],
      "execution_count": null,
      "outputs": [
        {
          "output_type": "display_data",
          "data": {
            "image/png": "[encoded data removed]",
            "text/plain": [
              "<Figure size 720x504 with 1 Axes>"
            ]
          },
          "metadata": {
            "tags": [],
            "needs_background": "light"
          }
        }
      ]
    },
    {
      "cell_type": "markdown",
      "metadata": {
        "id": "DRuvBu522nzS",
        "colab_type": "text"
      },
      "source": [
        "Вывод: выдающиеся результаты женщин, удостоенные Нобелевской премии, достигаются в основном в Литературе, Медицине и ещё примия Мира.\n",
        "Менее успешны женщины в Физике, Экономике и Химии."
      ]
    },
    {
      "cell_type": "markdown",
      "metadata": {
        "id": "ah-5jaVO2nzT",
        "colab_type": "text"
      },
      "source": [
        "## Насколько распространены иммигранты среди Нобелевских призёров, и из каких стран иммигрируют чаще всего?"
      ]
    },
    {
      "cell_type": "markdown",
      "metadata": {
        "id": "Y7Vu7KaK2nzU",
        "colab_type": "text"
      },
      "source": [
        "Буду смотреть по принципцу: отличается страна рождения и страна, работая на организацию которой, получил Нобелевскую премию = иммигрант"
      ]
    },
    {
      "cell_type": "code",
      "metadata": {
        "collapsed": true,
        "id": "fWD0nwNM2nzV",
        "colab_type": "code",
        "colab": {},
        "outputId": "89c8bf19-f411-4f31-f2f9-2d3849183589"
      },
      "source": [
        "nobel_data_ind_country = nobel_data_ind[(nobel_data_ind['Birth Country'].isnull() == False)&(nobel_data_ind['Organization Country'].isnull() == False)].copy()\n",
        "\n",
        "org_countr = nobel_data_ind_country['Organization Country'].drop_duplicates().copy()\n",
        "\n",
        "immigrant_mask = ~nobel_data_ind_country['Birth Country'].str.contains(\"|\".join(org_countr))\n",
        "nonimmigrant_mask = nobel_data_ind_country['Birth Country'].str.contains(\"|\".join(org_countr))\n",
        "nobel_immigr = nobel_data_ind_country.copy()\n",
        "nobel_immigr['Immigration'] = immigrant_mask\n",
        "nobel_immigr['No Immigration'] = nonimmigrant_mask"
      ],
      "execution_count": null,
      "outputs": [
        {
          "output_type": "stream",
          "text": [
            "C:\\Users\\Alfa\\Anaconda3\\lib\\site-packages\\ipykernel_launcher.py:5: UserWarning: This pattern has match groups. To actually get the groups, use str.extract.\n",
            "  \"\"\"\n",
            "C:\\Users\\Alfa\\Anaconda3\\lib\\site-packages\\ipykernel_launcher.py:6: UserWarning: This pattern has match groups. To actually get the groups, use str.extract.\n",
            "  \n"
          ],
          "name": "stderr"
        }
      ]
    },
    {
      "cell_type": "code",
      "metadata": {
        "scrolled": false,
        "id": "l-93scQr2nzX",
        "colab_type": "code",
        "colab": {},
        "outputId": "bc555801-06d9-4ffe-ed5c-1ec2a1fe4c5b"
      },
      "source": [
        "nobel_imm_clean = nobel_immigr[immigrant_mask][['Full Name', 'Birth Country', 'Organization Country']].copy()\n",
        "nobel_imm_clean.drop_duplicates(inplace=True)\n",
        "\n",
        "nobel_imm_clean = nobel_imm_clean[['Birth Country']].groupby('Birth Country').size().to_frame('Number of Immigrations').reset_index()\n",
        "nobel_imm_clean.sort_values('Number of Immigrations', inplace=True, ascending=False)\n",
        "nobel_imm_clean"
      ],
      "execution_count": null,
      "outputs": [
        {
          "output_type": "execute_result",
          "data": {
            "text/html": [
              "<div>\n",
              "<style scoped>\n",
              "    .dataframe tbody tr th:only-of-type {\n",
              "        vertical-align: middle;\n",
              "    }\n",
              "\n",
              "    .dataframe tbody tr th {\n",
              "        vertical-align: top;\n",
              "    }\n",
              "\n",
              "    .dataframe thead th {\n",
              "        text-align: right;\n",
              "    }\n",
              "</style>\n",
              "<table border=\"1\" class=\"dataframe\">\n",
              "  <thead>\n",
              "    <tr style=\"text-align: right;\">\n",
              "      <th></th>\n",
              "      <th>Birth Country</th>\n",
              "      <th>Number of Immigrations</th>\n",
              "    </tr>\n",
              "  </thead>\n",
              "  <tbody>\n",
              "    <tr>\n",
              "      <th>18</th>\n",
              "      <td>Scotland</td>\n",
              "      <td>7</td>\n",
              "    </tr>\n",
              "    <tr>\n",
              "      <th>16</th>\n",
              "      <td>Prussia (Poland)</td>\n",
              "      <td>5</td>\n",
              "    </tr>\n",
              "    <tr>\n",
              "      <th>19</th>\n",
              "      <td>South Africa</td>\n",
              "      <td>4</td>\n",
              "    </tr>\n",
              "    <tr>\n",
              "      <th>13</th>\n",
              "      <td>Poland</td>\n",
              "      <td>3</td>\n",
              "    </tr>\n",
              "    <tr>\n",
              "      <th>12</th>\n",
              "      <td>New Zealand</td>\n",
              "      <td>3</td>\n",
              "    </tr>\n",
              "    <tr>\n",
              "      <th>3</th>\n",
              "      <td>Egypt</td>\n",
              "      <td>2</td>\n",
              "    </tr>\n",
              "    <tr>\n",
              "      <th>17</th>\n",
              "      <td>Romania</td>\n",
              "      <td>2</td>\n",
              "    </tr>\n",
              "    <tr>\n",
              "      <th>9</th>\n",
              "      <td>Luxembourg</td>\n",
              "      <td>2</td>\n",
              "    </tr>\n",
              "    <tr>\n",
              "      <th>0</th>\n",
              "      <td>Brazil</td>\n",
              "      <td>1</td>\n",
              "    </tr>\n",
              "    <tr>\n",
              "      <th>21</th>\n",
              "      <td>Turkey</td>\n",
              "      <td>1</td>\n",
              "    </tr>\n",
              "    <tr>\n",
              "      <th>20</th>\n",
              "      <td>Taiwan</td>\n",
              "      <td>1</td>\n",
              "    </tr>\n",
              "    <tr>\n",
              "      <th>15</th>\n",
              "      <td>Poland (Ukraine)</td>\n",
              "      <td>1</td>\n",
              "    </tr>\n",
              "    <tr>\n",
              "      <th>14</th>\n",
              "      <td>Poland (Lithuania)</td>\n",
              "      <td>1</td>\n",
              "    </tr>\n",
              "    <tr>\n",
              "      <th>11</th>\n",
              "      <td>Morocco</td>\n",
              "      <td>1</td>\n",
              "    </tr>\n",
              "    <tr>\n",
              "      <th>1</th>\n",
              "      <td>British West Indies (Saint Lucia)</td>\n",
              "      <td>1</td>\n",
              "    </tr>\n",
              "    <tr>\n",
              "      <th>10</th>\n",
              "      <td>Mexico</td>\n",
              "      <td>1</td>\n",
              "    </tr>\n",
              "    <tr>\n",
              "      <th>8</th>\n",
              "      <td>Lithuania</td>\n",
              "      <td>1</td>\n",
              "    </tr>\n",
              "    <tr>\n",
              "      <th>7</th>\n",
              "      <td>Korea (South Korea)</td>\n",
              "      <td>1</td>\n",
              "    </tr>\n",
              "    <tr>\n",
              "      <th>6</th>\n",
              "      <td>Java, Dutch East Indies (Indonesia)</td>\n",
              "      <td>1</td>\n",
              "    </tr>\n",
              "    <tr>\n",
              "      <th>5</th>\n",
              "      <td>German-occupied Poland (Poland)</td>\n",
              "      <td>1</td>\n",
              "    </tr>\n",
              "    <tr>\n",
              "      <th>4</th>\n",
              "      <td>French Algeria (Algeria)</td>\n",
              "      <td>1</td>\n",
              "    </tr>\n",
              "    <tr>\n",
              "      <th>2</th>\n",
              "      <td>Cyprus</td>\n",
              "      <td>1</td>\n",
              "    </tr>\n",
              "    <tr>\n",
              "      <th>22</th>\n",
              "      <td>Venezuela</td>\n",
              "      <td>1</td>\n",
              "    </tr>\n",
              "  </tbody>\n",
              "</table>\n",
              "</div>"
            ],
            "text/plain": [
              "                          Birth Country  Number of Immigrations\n",
              "18                             Scotland                       7\n",
              "16                     Prussia (Poland)                       5\n",
              "19                         South Africa                       4\n",
              "13                               Poland                       3\n",
              "12                          New Zealand                       3\n",
              "3                                 Egypt                       2\n",
              "17                              Romania                       2\n",
              "9                            Luxembourg                       2\n",
              "0                                Brazil                       1\n",
              "21                               Turkey                       1\n",
              "20                               Taiwan                       1\n",
              "15                     Poland (Ukraine)                       1\n",
              "14                   Poland (Lithuania)                       1\n",
              "11                              Morocco                       1\n",
              "1     British West Indies (Saint Lucia)                       1\n",
              "10                               Mexico                       1\n",
              "8                             Lithuania                       1\n",
              "7                   Korea (South Korea)                       1\n",
              "6   Java, Dutch East Indies (Indonesia)                       1\n",
              "5       German-occupied Poland (Poland)                       1\n",
              "4              French Algeria (Algeria)                       1\n",
              "2                                Cyprus                       1\n",
              "22                            Venezuela                       1"
            ]
          },
          "metadata": {
            "tags": []
          },
          "execution_count": 302
        }
      ]
    },
    {
      "cell_type": "code",
      "metadata": {
        "scrolled": true,
        "id": "oP82NVES2nza",
        "colab_type": "code",
        "colab": {},
        "outputId": "004ed733-ac3c-4620-e2f9-80742f638058"
      },
      "source": [
        "nobel_data_ind[nobel_data_ind['Birth Country']=='Scotland'][['Full Name','Birth Country', 'Organization Country']]"
      ],
      "execution_count": null,
      "outputs": [
        {
          "output_type": "execute_result",
          "data": {
            "text/html": [
              "<div>\n",
              "<style scoped>\n",
              "    .dataframe tbody tr th:only-of-type {\n",
              "        vertical-align: middle;\n",
              "    }\n",
              "\n",
              "    .dataframe tbody tr th {\n",
              "        vertical-align: top;\n",
              "    }\n",
              "\n",
              "    .dataframe thead th {\n",
              "        text-align: right;\n",
              "    }\n",
              "</style>\n",
              "<table border=\"1\" class=\"dataframe\">\n",
              "  <thead>\n",
              "    <tr style=\"text-align: right;\">\n",
              "      <th></th>\n",
              "      <th>Full Name</th>\n",
              "      <th>Birth Country</th>\n",
              "      <th>Organization Country</th>\n",
              "    </tr>\n",
              "  </thead>\n",
              "  <tbody>\n",
              "    <tr>\n",
              "      <th>20</th>\n",
              "      <td>Sir William Ramsay</td>\n",
              "      <td>Scotland</td>\n",
              "      <td>United Kingdom</td>\n",
              "    </tr>\n",
              "    <tr>\n",
              "      <th>117</th>\n",
              "      <td>John James Rickard Macleod</td>\n",
              "      <td>Scotland</td>\n",
              "      <td>Canada</td>\n",
              "    </tr>\n",
              "    <tr>\n",
              "      <th>140</th>\n",
              "      <td>Charles Thomson Rees Wilson</td>\n",
              "      <td>Scotland</td>\n",
              "      <td>United Kingdom</td>\n",
              "    </tr>\n",
              "    <tr>\n",
              "      <th>181</th>\n",
              "      <td>Arthur Henderson</td>\n",
              "      <td>Scotland</td>\n",
              "      <td>NaN</td>\n",
              "    </tr>\n",
              "    <tr>\n",
              "      <th>226</th>\n",
              "      <td>Sir Alexander Fleming</td>\n",
              "      <td>Scotland</td>\n",
              "      <td>United Kingdom</td>\n",
              "    </tr>\n",
              "    <tr>\n",
              "      <th>256</th>\n",
              "      <td>Lord (John) Boyd Orr of Brechin</td>\n",
              "      <td>Scotland</td>\n",
              "      <td>NaN</td>\n",
              "    </tr>\n",
              "    <tr>\n",
              "      <th>314</th>\n",
              "      <td>Lord (Alexander R.) Todd</td>\n",
              "      <td>Scotland</td>\n",
              "      <td>United Kingdom</td>\n",
              "    </tr>\n",
              "    <tr>\n",
              "      <th>607</th>\n",
              "      <td>Sir James W. Black</td>\n",
              "      <td>Scotland</td>\n",
              "      <td>United Kingdom</td>\n",
              "    </tr>\n",
              "    <tr>\n",
              "      <th>688</th>\n",
              "      <td>James A. Mirrlees</td>\n",
              "      <td>Scotland</td>\n",
              "      <td>United Kingdom</td>\n",
              "    </tr>\n",
              "  </tbody>\n",
              "</table>\n",
              "</div>"
            ],
            "text/plain": [
              "                           Full Name Birth Country Organization Country\n",
              "20                Sir William Ramsay      Scotland       United Kingdom\n",
              "117       John James Rickard Macleod      Scotland               Canada\n",
              "140      Charles Thomson Rees Wilson      Scotland       United Kingdom\n",
              "181                 Arthur Henderson      Scotland                  NaN\n",
              "226            Sir Alexander Fleming      Scotland       United Kingdom\n",
              "256  Lord (John) Boyd Orr of Brechin      Scotland                  NaN\n",
              "314         Lord (Alexander R.) Todd      Scotland       United Kingdom\n",
              "607               Sir James W. Black      Scotland       United Kingdom\n",
              "688                James A. Mirrlees      Scotland       United Kingdom"
            ]
          },
          "metadata": {
            "tags": []
          },
          "execution_count": 306
        }
      ]
    },
    {
      "cell_type": "code",
      "metadata": {
        "scrolled": true,
        "id": "wYkJeA4E2nzc",
        "colab_type": "code",
        "colab": {},
        "outputId": "97cef17b-9e4f-4905-e41a-c86da76eb1d4"
      },
      "source": [
        "nobel_immigr[nobel_immigr['Birth Country']=='Prussia (Poland)'][['Full Name','Birth Country', 'Organization Country']]"
      ],
      "execution_count": null,
      "outputs": [
        {
          "output_type": "execute_result",
          "data": {
            "text/html": [
              "<div>\n",
              "<style scoped>\n",
              "    .dataframe tbody tr th:only-of-type {\n",
              "        vertical-align: middle;\n",
              "    }\n",
              "\n",
              "    .dataframe tbody tr th {\n",
              "        vertical-align: top;\n",
              "    }\n",
              "\n",
              "    .dataframe thead th {\n",
              "        text-align: right;\n",
              "    }\n",
              "</style>\n",
              "<table border=\"1\" class=\"dataframe\">\n",
              "  <thead>\n",
              "    <tr style=\"text-align: right;\">\n",
              "      <th></th>\n",
              "      <th>Full Name</th>\n",
              "      <th>Birth Country</th>\n",
              "      <th>Organization Country</th>\n",
              "    </tr>\n",
              "  </thead>\n",
              "  <tbody>\n",
              "    <tr>\n",
              "      <th>2</th>\n",
              "      <td>Emil Adolf von Behring</td>\n",
              "      <td>Prussia (Poland)</td>\n",
              "      <td>Germany</td>\n",
              "    </tr>\n",
              "    <tr>\n",
              "      <th>42</th>\n",
              "      <td>Albert Abraham Michelson</td>\n",
              "      <td>Prussia (Poland)</td>\n",
              "      <td>United States of America</td>\n",
              "    </tr>\n",
              "    <tr>\n",
              "      <th>46</th>\n",
              "      <td>Paul Ehrlich</td>\n",
              "      <td>Prussia (Poland)</td>\n",
              "      <td>Germany</td>\n",
              "    </tr>\n",
              "    <tr>\n",
              "      <th>47</th>\n",
              "      <td>Paul Ehrlich</td>\n",
              "      <td>Prussia (Poland)</td>\n",
              "      <td>Germany</td>\n",
              "    </tr>\n",
              "    <tr>\n",
              "      <th>92</th>\n",
              "      <td>Fritz Haber</td>\n",
              "      <td>Prussia (Poland)</td>\n",
              "      <td>Germany</td>\n",
              "    </tr>\n",
              "    <tr>\n",
              "      <th>260</th>\n",
              "      <td>Kurt Alder</td>\n",
              "      <td>Prussia (Poland)</td>\n",
              "      <td>Federal Republic of Germany</td>\n",
              "    </tr>\n",
              "  </tbody>\n",
              "</table>\n",
              "</div>"
            ],
            "text/plain": [
              "                    Full Name     Birth Country         Organization Country\n",
              "2      Emil Adolf von Behring  Prussia (Poland)                      Germany\n",
              "42   Albert Abraham Michelson  Prussia (Poland)     United States of America\n",
              "46               Paul Ehrlich  Prussia (Poland)                      Germany\n",
              "47               Paul Ehrlich  Prussia (Poland)                      Germany\n",
              "92                Fritz Haber  Prussia (Poland)                      Germany\n",
              "260                Kurt Alder  Prussia (Poland)  Federal Republic of Germany"
            ]
          },
          "metadata": {
            "tags": []
          },
          "execution_count": 308
        }
      ]
    },
    {
      "cell_type": "markdown",
      "metadata": {
        "id": "qLrkrEWR2nzf",
        "colab_type": "text"
      },
      "source": [
        "Как оказалось, иммиграция не очень распространенное явление. Подовляющее большинство иммигрантов - это иммиграция в следствие перераздела страны."
      ]
    },
    {
      "cell_type": "markdown",
      "metadata": {
        "id": "E_NFiO0H2nzf",
        "colab_type": "text"
      },
      "source": [
        "## Страна - лидер по кол-ву Нобелевских призеров"
      ]
    },
    {
      "cell_type": "code",
      "metadata": {
        "id": "RtV73msv2nzg",
        "colab_type": "code",
        "colab": {},
        "outputId": "2576d58c-ff19-4921-eb4b-74572c9848d8"
      },
      "source": [
        "nobel_country_leader = nobel_data_ind[nobel_data_ind['Organization Country'].isnull()==False].copy()\n",
        "\n",
        "nobel_country_leader = nobel_country_leader.groupby(['Organization Country']).size().to_frame('Quantity of winners').reset_index()\n",
        "nobel_country_leader.sort_values('Quantity of winners', \n",
        "                                 ascending=False)"
      ],
      "execution_count": null,
      "outputs": [
        {
          "output_type": "execute_result",
          "data": {
            "text/html": [
              "<div>\n",
              "<style scoped>\n",
              "    .dataframe tbody tr th:only-of-type {\n",
              "        vertical-align: middle;\n",
              "    }\n",
              "\n",
              "    .dataframe tbody tr th {\n",
              "        vertical-align: top;\n",
              "    }\n",
              "\n",
              "    .dataframe thead th {\n",
              "        text-align: right;\n",
              "    }\n",
              "</style>\n",
              "<table border=\"1\" class=\"dataframe\">\n",
              "  <thead>\n",
              "    <tr style=\"text-align: right;\">\n",
              "      <th></th>\n",
              "      <th>Organization Country</th>\n",
              "      <th>Quantity of winners</th>\n",
              "    </tr>\n",
              "  </thead>\n",
              "  <tbody>\n",
              "    <tr>\n",
              "      <th>28</th>\n",
              "      <td>United States of America</td>\n",
              "      <td>361</td>\n",
              "    </tr>\n",
              "    <tr>\n",
              "      <th>27</th>\n",
              "      <td>United Kingdom</td>\n",
              "      <td>90</td>\n",
              "    </tr>\n",
              "    <tr>\n",
              "      <th>12</th>\n",
              "      <td>Germany</td>\n",
              "      <td>51</td>\n",
              "    </tr>\n",
              "    <tr>\n",
              "      <th>11</th>\n",
              "      <td>France</td>\n",
              "      <td>40</td>\n",
              "    </tr>\n",
              "    <tr>\n",
              "      <th>9</th>\n",
              "      <td>Federal Republic of Germany</td>\n",
              "      <td>26</td>\n",
              "    </tr>\n",
              "    <tr>\n",
              "      <th>25</th>\n",
              "      <td>Switzerland</td>\n",
              "      <td>22</td>\n",
              "    </tr>\n",
              "    <tr>\n",
              "      <th>18</th>\n",
              "      <td>Japan</td>\n",
              "      <td>18</td>\n",
              "    </tr>\n",
              "    <tr>\n",
              "      <th>24</th>\n",
              "      <td>Sweden</td>\n",
              "      <td>17</td>\n",
              "    </tr>\n",
              "    <tr>\n",
              "      <th>19</th>\n",
              "      <td>Netherlands</td>\n",
              "      <td>11</td>\n",
              "    </tr>\n",
              "    <tr>\n",
              "      <th>26</th>\n",
              "      <td>Union of Soviet Socialist Republics</td>\n",
              "      <td>11</td>\n",
              "    </tr>\n",
              "    <tr>\n",
              "      <th>8</th>\n",
              "      <td>Denmark</td>\n",
              "      <td>9</td>\n",
              "    </tr>\n",
              "    <tr>\n",
              "      <th>5</th>\n",
              "      <td>Canada</td>\n",
              "      <td>7</td>\n",
              "    </tr>\n",
              "    <tr>\n",
              "      <th>17</th>\n",
              "      <td>Italy</td>\n",
              "      <td>6</td>\n",
              "    </tr>\n",
              "    <tr>\n",
              "      <th>4</th>\n",
              "      <td>Belgium</td>\n",
              "      <td>6</td>\n",
              "    </tr>\n",
              "    <tr>\n",
              "      <th>2</th>\n",
              "      <td>Australia</td>\n",
              "      <td>6</td>\n",
              "    </tr>\n",
              "    <tr>\n",
              "      <th>3</th>\n",
              "      <td>Austria</td>\n",
              "      <td>6</td>\n",
              "    </tr>\n",
              "    <tr>\n",
              "      <th>16</th>\n",
              "      <td>Israel</td>\n",
              "      <td>5</td>\n",
              "    </tr>\n",
              "    <tr>\n",
              "      <th>20</th>\n",
              "      <td>Norway</td>\n",
              "      <td>5</td>\n",
              "    </tr>\n",
              "    <tr>\n",
              "      <th>22</th>\n",
              "      <td>Russia</td>\n",
              "      <td>3</td>\n",
              "    </tr>\n",
              "    <tr>\n",
              "      <th>1</th>\n",
              "      <td>Argentina</td>\n",
              "      <td>2</td>\n",
              "    </tr>\n",
              "    <tr>\n",
              "      <th>6</th>\n",
              "      <td>China</td>\n",
              "      <td>2</td>\n",
              "    </tr>\n",
              "    <tr>\n",
              "      <th>21</th>\n",
              "      <td>Portugal</td>\n",
              "      <td>2</td>\n",
              "    </tr>\n",
              "    <tr>\n",
              "      <th>23</th>\n",
              "      <td>Spain</td>\n",
              "      <td>1</td>\n",
              "    </tr>\n",
              "    <tr>\n",
              "      <th>0</th>\n",
              "      <td>Alsace (then Germany, now France)</td>\n",
              "      <td>1</td>\n",
              "    </tr>\n",
              "    <tr>\n",
              "      <th>15</th>\n",
              "      <td>Ireland</td>\n",
              "      <td>1</td>\n",
              "    </tr>\n",
              "    <tr>\n",
              "      <th>13</th>\n",
              "      <td>Hungary</td>\n",
              "      <td>1</td>\n",
              "    </tr>\n",
              "    <tr>\n",
              "      <th>10</th>\n",
              "      <td>Finland</td>\n",
              "      <td>1</td>\n",
              "    </tr>\n",
              "    <tr>\n",
              "      <th>7</th>\n",
              "      <td>Czechoslovakia</td>\n",
              "      <td>1</td>\n",
              "    </tr>\n",
              "    <tr>\n",
              "      <th>14</th>\n",
              "      <td>India</td>\n",
              "      <td>1</td>\n",
              "    </tr>\n",
              "  </tbody>\n",
              "</table>\n",
              "</div>"
            ],
            "text/plain": [
              "                   Organization Country  Quantity of winners\n",
              "28             United States of America                  361\n",
              "27                       United Kingdom                   90\n",
              "12                              Germany                   51\n",
              "11                               France                   40\n",
              "9           Federal Republic of Germany                   26\n",
              "25                          Switzerland                   22\n",
              "18                                Japan                   18\n",
              "24                               Sweden                   17\n",
              "19                          Netherlands                   11\n",
              "26  Union of Soviet Socialist Republics                   11\n",
              "8                               Denmark                    9\n",
              "5                                Canada                    7\n",
              "17                                Italy                    6\n",
              "4                               Belgium                    6\n",
              "2                             Australia                    6\n",
              "3                               Austria                    6\n",
              "16                               Israel                    5\n",
              "20                               Norway                    5\n",
              "22                               Russia                    3\n",
              "1                             Argentina                    2\n",
              "6                                 China                    2\n",
              "21                             Portugal                    2\n",
              "23                                Spain                    1\n",
              "0     Alsace (then Germany, now France)                    1\n",
              "15                              Ireland                    1\n",
              "13                              Hungary                    1\n",
              "10                              Finland                    1\n",
              "7                        Czechoslovakia                    1\n",
              "14                                India                    1"
            ]
          },
          "metadata": {
            "tags": []
          },
          "execution_count": 316
        }
      ]
    }
  ]
}